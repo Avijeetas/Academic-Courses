{
 "cells": [
  {
   "cell_type": "code",
   "execution_count": null,
   "metadata": {},
   "outputs": [],
   "source": [
    "import re \n",
    "from collections import deque,defaultdict\n",
    "\n",
    "ptable = {'id': {'E': ['T', \"E'\"], 'T': ['F', \"T'\"], 'F': ['id']}, '+': {\"E'\": ['+', 'T', \"E'\"], \"T'\": ['']}, '*': {\"T'\": ['*', 'F', \"T'\"]}, '(': {'E': ['T', \"E'\"], 'T': ['F', \"T'\"], 'F': ['(', 'E', ')']}, ')': {\"E'\": [''], \"T'\": ['']}, '$': {\"E'\": [''], \"T'\": ['']}}\n",
    "\n",
    "\n",
    "stack = input(\"(Space separated)Stack:\").split()\n",
    "stack = stack[::-1]\n",
    "inpt = deque(input(\"(Space separated)Input:\").split())\n",
    "\n",
    "while stack or inpt:\n",
    "    print(stack[::-1])\n",
    "    print(inpt)\n",
    "    top = stack.pop()\n",
    "    if top == inpt[0]:\n",
    "        inpt.popleft()\n",
    "    else:\n",
    "        \n",
    "        lst= ptable[inpt[0]][top]\n",
    "        for i in reversed(lst):\n",
    "            if i:\n",
    "                stack.append(i)\n",
    "\n",
    "if not stack and not inpt:\n",
    "    print(\"Succesful\")\n",
    "else:\n",
    "    print(\"unsuccesful\")\n",
    "\n",
    "\n",
    "\n",
    "            \n",
    "\n",
    "\n"
   ]
  },
  {
   "cell_type": "code",
   "execution_count": null,
   "metadata": {},
   "outputs": [],
   "source": []
  }
 ],
 "metadata": {
  "kernelspec": {
   "display_name": "Python 3",
   "language": "python",
   "name": "python3"
  },
  "language_info": {
   "codemirror_mode": {
    "name": "ipython",
    "version": 3
   },
   "file_extension": ".py",
   "mimetype": "text/x-python",
   "name": "python",
   "nbconvert_exporter": "python",
   "pygments_lexer": "ipython3",
   "version": "3.7.3"
  }
 },
 "nbformat": 4,
 "nbformat_minor": 2
}
