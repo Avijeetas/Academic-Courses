{
 "cells": [
  {
   "cell_type": "code",
   "execution_count": null,
   "metadata": {},
   "outputs": [],
   "source": [
    "CFG= {'S': ['ABC'], 'A': ['aA', 'a'], 'B': ['Bb', 'b'], 'C': ['Ac']}\n",
    "\n",
    "def parser(production,input_string):\n",
    "    if production==input_string:\n",
    "        return True\n",
    "    \n",
    "    l=len(production)\n",
    "    if l>len(input_string):\n",
    "        print('length exceeded')\n",
    "        return False\n",
    "    for i in range(l):\n",
    "        if production[i] in CFG:                          # traversing through derived string for a NONTerminal\n",
    "            for j in range(len(CFG[production[i]])):\n",
    "                print('     ',production[i],'\\n',production)\n",
    "                word=production[:i] + CFG[production[i]][j] + production[i+1:]\n",
    "                print(word,'\\n')\n",
    "                if parser(word,input_string):\n",
    "                    return True\n",
    "    \n",
    "    \n",
    "temp= True    \n",
    "while temp:\n",
    "    check=input(\"Input String: \")\n",
    "    if check==\"exit\":\n",
    "        break\n",
    "    if parser(CFG[\"S\"][0],check):\n",
    "        print(\"Verdict: String is Accepted\")\n",
    "    else:\n",
    "        print(\"Verdict: String Not Accepted\")\n",
    "    temp = False\n",
    "    \n",
    "    \n",
    "    #aabac"
   ]
  },
  {
   "cell_type": "code",
   "execution_count": null,
   "metadata": {},
   "outputs": [],
   "source": [
    "len({'S ': ['ABC'], 'A': ['aA', 'a'], 'B': ['Bb', 'b'], 'C': ['c']})"
   ]
  },
  {
   "cell_type": "code",
   "execution_count": null,
   "metadata": {},
   "outputs": [],
   "source": []
  },
  {
   "cell_type": "code",
   "execution_count": null,
   "metadata": {},
   "outputs": [],
   "source": []
  }
 ],
 "metadata": {
  "kernelspec": {
   "display_name": "Python 3",
   "language": "python",
   "name": "python3"
  },
  "language_info": {
   "codemirror_mode": {
    "name": "ipython",
    "version": 3
   },
   "file_extension": ".py",
   "mimetype": "text/x-python",
   "name": "python",
   "nbconvert_exporter": "python",
   "pygments_lexer": "ipython3",
   "version": "3.7.3"
  }
 },
 "nbformat": 4,
 "nbformat_minor": 2
}
