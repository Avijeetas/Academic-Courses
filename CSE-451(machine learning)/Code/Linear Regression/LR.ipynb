{
 "cells": [
  {
   "cell_type": "code",
   "execution_count": 1,
   "metadata": {},
   "outputs": [
    {
     "name": "stdout",
     "output_type": "stream",
     "text": [
      "99.66043135108349\n"
     ]
    }
   ],
   "source": [
    "import pandas as pd\n",
    "import random \n",
    "import numpy as np \n",
    "import matplotlib.pyplot as plt \n",
    "from sklearn.cluster import KMeans \n",
    "from sklearn import preprocessing \n",
    "import warnings\n",
    "warnings.filterwarnings('ignore')\n",
    "\n",
    "from sklearn.datasets.samples_generator import make_blobs \n",
    "%matplotlib inline\n",
    "from sklearn.preprocessing import StandardScaler\n",
    "import seaborn as sns\n",
    "from sklearn.linear_model import LinearRegression\n",
    "from sklearn.model_selection import train_test_split\n",
    "\n",
    "df=pd.read_csv('Live.csv')\n",
    "df.drop_duplicates(inplace=True)\n",
    "df=df.drop([\"Column1\",\"Column2\",\"Column3\",\"Column4\"],axis=1)\n",
    "le = preprocessing.LabelEncoder() \n",
    "df['id'] = le.fit_transform(df['status_id'])\n",
    "df.drop('status_id',axis=1, inplace=True)\n",
    "df['status_type'] = le.fit_transform(df['status_type'])\n",
    "df['status_published']=pd.to_datetime(df['status_published'])\n",
    "df['year']=df['status_published'].dt.year\n",
    "df['hr']=df['status_published'].dt.hour\n",
    "df.drop('status_published',axis=1,inplace=True)\n",
    "af =df[df['year']>=2015]\n",
    "af['total_reac']=af.iloc[:,1:4].sum(axis=1)\n",
    "X=(af[['total_reac','year','id','num_shares','num_comments']])\n",
    "y=(af['num_likes'])\n",
    "x_train,x_test,y_train,y_test=train_test_split(X,y,test_size=.2,random_state=42)\n",
    "from sklearn import metrics #import r2_score\n",
    "lr=LinearRegression()\n",
    "CodeApriori\n",
    "Name\n",
    "Last Modified\n",
    "\n",
    "import pandas as pd\n",
    "\n",
    "import random \n",
    "\n",
    "import numpy as np \n",
    "\n",
    "import matplotlib.pyplot as plt \n",
    "\n",
    "from sklearn.cluster import KMeans \n",
    "\n",
    "from sklearn import preprocessing \n",
    "\n",
    "import warnings\n",
    "\n",
    "warnings.filterwarnings('ignore')\n",
    "\n",
    "​\n",
    "\n",
    "from sklearn.datasets.samples_generator import make_blobs \n",
    "\n",
    "%matplotlib inline\n",
    "\n",
    "from sklearn.preprocessing import StandardScaler\n",
    "\n",
    "import seaborn as sns\n",
    "\n",
    "from sklearn.linear_model import LinearRegression\n",
    "\n",
    "from sklearn.model_selection import train_test_split\n",
    "\n",
    "​\n",
    "\n",
    "df=pd.read_csv('Live.csv')\n",
    "\n",
    "df.drop_duplicates(inplace=True)\n",
    "\n",
    "df=df.drop([\"Column1\",\"Column2\",\"Column3\",\"Column4\"],axis=1)\n",
    "\n",
    "le = preprocessing.LabelEncoder() \n",
    "lr.fit(x_train,y_train)\n",
    "y_pred=lr.predict(x_test)\n",
    "print(metrics.r2_score(y_test, y_pred)*100)\n"
   ]
  },
  {
   "cell_type": "code",
   "execution_count": null,
   "metadata": {},
   "outputs": [],
   "source": []
  }
 ],
 "metadata": {
  "kernelspec": {
   "display_name": "Python 3",
   "language": "python",
   "name": "python3"
  },
  "language_info": {
   "codemirror_mode": {
    "name": "ipython",
    "version": 3
   },
   "file_extension": ".py",
   "mimetype": "text/x-python",
   "name": "python",
   "nbconvert_exporter": "python",
   "pygments_lexer": "ipython3",
   "version": "3.7.3"
  }
 },
 "nbformat": 4,
 "nbformat_minor": 2
}
