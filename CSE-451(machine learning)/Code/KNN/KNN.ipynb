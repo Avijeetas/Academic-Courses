{
 "cells": [
  {
   "cell_type": "code",
   "execution_count": 2,
   "metadata": {},
   "outputs": [
    {
     "name": "stdout",
     "output_type": "stream",
     "text": [
      "KNN's Accuracy:  3 58.718861209964416\n"
     ]
    }
   ],
   "source": [
    "import pandas as pd\n",
    "import random \n",
    "import numpy as np \n",
    "import matplotlib.pyplot as plt \n",
    "from sklearn.cluster import KMeans \n",
    "from sklearn import preprocessing \n",
    "from sklearn.preprocessing import StandardScaler\n",
    "import seaborn as sns\n",
    "import warnings\n",
    "warnings.filterwarnings('ignore')\n",
    "from sklearn.model_selection import train_test_split\n",
    "%matplotlib inline\n",
    "df=pd.read_csv('Live.csv')\n",
    "df.drop_duplicates(inplace=True)\n",
    "df=df.drop([\"Column1\",\"Column2\",\"Column3\",\"Column4\"],axis=1)\n",
    "le = preprocessing.LabelEncoder() \n",
    "df['id'] = le.fit_transform(df['status_id'])\n",
    "df.drop('status_id',axis=1, inplace=True)\n",
    "df = df[df.status_type != 'link']\n",
    "mp = {'video':1, 'photo':0,'status':0}\n",
    "df['status_type'] = df['status_type'].map(mp)\n",
    "df['status_published']=pd.to_datetime(df['status_published'])\n",
    "df['year']=df['status_published'].dt.year\n",
    "emotions=['num_reactions', 'num_comments',\n",
    "       'num_shares', 'num_likes', 'num_loves', 'num_wows', 'num_hahas',\n",
    "       'num_sads', 'num_angrys']\n",
    "#total_emotion\n",
    "bf=df[df['year']<=2015]\n",
    "af =df[df['year']>=2015]\n",
    "af['total_reac']=af.iloc[:,1:4].sum(axis=1)\n",
    "X=np.array(af[['year','total_reac']])\n",
    "y=np.array(af['status_type'])\n",
    "\n",
    "\n",
    "X_train,X_test,y_train,y_test=train_test_split(X,y,test_size=.15,random_state=41)\n",
    "def predict(test,k):\n",
    "    dist = np.linalg.norm(X_train-test,axis = 1)\n",
    "    sorted_dist = np.argsort(dist)\n",
    "    K_neighbours = sorted_dist[:k]\n",
    "    a,b=0,0\n",
    "    Cls = np.amax(y_train[K_neighbours])\n",
    "    z = [key for key, value in mp.items() if value == Cls][0]\n",
    "    return z,Cls\n",
    "j=0\n",
    "\n",
    "for i in range(len(X_test)):\n",
    "    p,c = predict(X_test[i],3)\n",
    "    if(y_test[i]==c): \n",
    "        j = j+1    \n",
    "print(\"KNN's Accuracy: \",3, j*100/len(X_test))\n"
   ]
  },
  {
   "cell_type": "code",
   "execution_count": null,
   "metadata": {},
   "outputs": [],
   "source": []
  }
 ],
 "metadata": {
  "kernelspec": {
   "display_name": "Python 3",
   "language": "python",
   "name": "python3"
  },
  "language_info": {
   "codemirror_mode": {
    "name": "ipython",
    "version": 3
   },
   "file_extension": ".py",
   "mimetype": "text/x-python",
   "name": "python",
   "nbconvert_exporter": "python",
   "pygments_lexer": "ipython3",
   "version": "3.7.3"
  }
 },
 "nbformat": 4,
 "nbformat_minor": 2
}
